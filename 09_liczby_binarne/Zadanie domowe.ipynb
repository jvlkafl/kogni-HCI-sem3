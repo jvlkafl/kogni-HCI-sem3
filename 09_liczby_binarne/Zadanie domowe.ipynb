{
 "cells": [
  {
   "cell_type": "markdown",
   "metadata": {},
   "source": [
    "## Zamień liczbę \"37\" oraz liczbę tworzoną przez dwie ostatnie cyfry z numeru indeksu na liczby binarne, a następnie dodaj, odejmij (większą od mniejszej) i pomnóż je przez siebie (ręcznie :). Prześlij zdjęcie rozwiązań, lub printscreen z edytora graficznego. "
   ]
  },
  {
   "cell_type": "code",
   "execution_count": null,
   "metadata": {},
   "outputs": [],
   "source": []
  }
 ],
 "metadata": {
  "kernelspec": {
   "display_name": "Python 3",
   "language": "python",
   "name": "python3"
  },
  "language_info": {
   "codemirror_mode": {
    "name": "ipython",
    "version": 3
   },
   "file_extension": ".py",
   "mimetype": "text/x-python",
   "name": "python",
   "nbconvert_exporter": "python",
   "pygments_lexer": "ipython3",
   "version": "3.8.0"
  }
 },
 "nbformat": 4,
 "nbformat_minor": 2
}
