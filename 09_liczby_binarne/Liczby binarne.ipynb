{
 "cells": [
  {
   "cell_type": "markdown",
   "metadata": {},
   "source": [
    "## System dziesiętny"
   ]
  },
  {
   "cell_type": "markdown",
   "metadata": {},
   "source": [
    "\n",
    "<img src=\"../images/decimal-min.png\" width=\"620\" align=\"left\">"
   ]
  },
  {
   "cell_type": "markdown",
   "metadata": {},
   "source": [
    "## Zamiana liczb dziesiętnych na binarne\n",
    "\n",
    "Za pomocą jednego bitu możemy zapisać dwie podstawowe cyfry binarne: 0 i 1, w zapisie dziesiętnym ich znaczenie jest takie samo.\n",
    "\n",
    "Aby zapisać kolejne cyfry (2 i 3) należy skorzystać z dwóch bitów:\n",
    "\n",
    "| dziesiętny | binarny |\n",
    "|:------:|:--------------------------:|\n",
    "|      2|10                           |\n",
    "|       3|11                          |\n",
    "\n"
   ]
  },
  {
   "cell_type": "markdown",
   "metadata": {},
   "source": [
    "Wykorzystanie 3 bitów pozwoli na zapis kolejnych cyfr z systemu dziesiętnego:\n",
    "\n",
    "| dziesiętny | binarny |\n",
    "|:------:|:--------------------------:|\n",
    "|4 | 100|\n",
    "|5 | 101|\n",
    "|6 | 110|\n",
    "|7 | 111|\n"
   ]
  },
  {
   "cell_type": "markdown",
   "metadata": {},
   "source": [
    "### Jak zamienić dowolną liczbę dziesiętną na binarną? \n",
    "Przykład (liczba 18 na zapis binarny):\n",
    "\n",
    "\n",
    "     liczba|reszta z dzielenia przez 2\n",
    "     _________________________________\n",
    "         18|0                      \n",
    "          9|1                           \n",
    "          4|0                         \n",
    "          2|0                           \n",
    "          1|1                           \n",
    "\n",
    "\n",
    "Następnie odczytujemy kolejność od dołu: 10010\n",
    "    "
   ]
  },
  {
   "cell_type": "markdown",
   "metadata": {},
   "source": [
    "Można to także sprawdzić w Pythonie:"
   ]
  },
  {
   "cell_type": "code",
   "execution_count": 7,
   "metadata": {},
   "outputs": [
    {
     "name": "stdout",
     "output_type": "stream",
     "text": [
      "0b100101\n"
     ]
    }
   ],
   "source": [
    "print(bin(37))"
   ]
  },
  {
   "cell_type": "markdown",
   "metadata": {},
   "source": [
    "## Zamiana liczby binarnej na dziesiętną\n",
    "\n",
    "Uzyskaną liczbę binarną (10010) zamieńmy na dziesiętną.\n",
    "Sposób bardziej przyzwoity i poprawny z matematycznego punktu widzenia niż przedstawiony powyżej:"
   ]
  },
  {
   "cell_type": "markdown",
   "metadata": {},
   "source": [
    "\n",
    "\n",
    "$ 1∗2^{4}+0∗2^{3}+0∗2^{2}+1∗2^{1}+0∗2^{0}= 16+2=18 $\n"
   ]
  },
  {
   "cell_type": "markdown",
   "metadata": {},
   "source": [
    "## Dodawanie liczb binarnych"
   ]
  },
  {
   "cell_type": "markdown",
   "metadata": {},
   "source": [
    "Prosty przykład:\n",
    "```\n",
    "  10=2\n",
    "+ 01=1\n",
    "--------\n",
    "  11=3\n",
    "```\n",
    "Przykład z dwiema jedynkami w jednej kolumnie:\n",
    "```\n",
    "  001=1\n",
    "+ 101=5\n",
    "--------\n",
    "  110=6\n",
    "  ```"
   ]
  },
  {
   "cell_type": "markdown",
   "metadata": {},
   "source": [
    "Dlaczego? Zaczynamy od prawej strony 1+1=10, dlatego na dole zapisujemy 0 i zapamiętujemy 1. W następnym kroku dodajemy 0+0+1 (zapamietane) co daje 1, które zapisujemy na dole. W ostatnim kroku dodajemy 0 + 1 i pod kreską zapisujemy 1."
   ]
  },
  {
   "cell_type": "markdown",
   "metadata": {},
   "source": [
    "###   Zadanie <img src=\"../images/pencil.png\" width=\"20\" align=\"left\">\n",
    "\n",
    "Zamień na binarne liczbę 12 oraz liczbę 10, a następnie ręcznie dodaj do siebie te liczby."
   ]
  },
  {
   "cell_type": "code",
   "execution_count": null,
   "metadata": {},
   "outputs": [],
   "source": []
  },
  {
   "cell_type": "markdown",
   "metadata": {},
   "source": [
    "## Odejmowanie liczb binarnych\n",
    "\n",
    "Prosty przykład:\n",
    "\n",
    "```\n",
    "  11=3\n",
    "- 01=1\n",
    "--------\n",
    "  10=2\n",
    "```\n",
    "\n",
    "Przykład z zerem i jedynką w jednej kolumnie:\n",
    "\n",
    "```\n",
    "  101=5\n",
    "- 011=3\n",
    "--------\n",
    "  010=2\n",
    "```\n",
    "\n",
    "\n",
    "Dlaczego? Zaczynamy od prawej strony 1-1=0, dlatego na dole zapisujemy 0. W następnym kroku odejmujemy 0-1, musimy zastosować metodę, którą znamy z tradycyjnego odejmowania, czyli \"pożyczenie\" (jeśli pożyczamy z wyższego 1 to de facto mamy 2 w zapisie dziesiętnym, 10 w zapisie binarnym) 1 z następnej kolumny, w ten sposób uzyskujemy 10-0-1 = 1 które zapisujemy na dole. W ostatnim kroku 0-0=0. Zapis 1-1 oznacza, że musimy \"oddać\" \"pożyczoną\" jedynkę."
   ]
  },
  {
   "cell_type": "markdown",
   "metadata": {},
   "source": [
    "## Mnożenie liczb binarnych\n",
    "\n",
    "```\n",
    "   101=5\n",
    "*  101=5\n",
    "----------\n",
    "   101\n",
    "  000\n",
    "+101\n",
    "----------\n",
    " 11001=25\n",
    "```\n",
    "\n",
    "Mnożymy tak jak robimy to w tradycyjnym mnożeniu. Wyniki zapisujemy poniżej. Uzyskane wyniki dodajemy."
   ]
  },
  {
   "cell_type": "code",
   "execution_count": null,
   "metadata": {},
   "outputs": [],
   "source": []
  },
  {
   "cell_type": "markdown",
   "metadata": {},
   "source": [
    "## Dodawanie liczb binarnych przez komputer\n",
    "\n",
    "![](../images/bramki.png)"
   ]
  },
  {
   "cell_type": "markdown",
   "metadata": {},
   "source": [
    "### Co się dzieje w kolumnach?\n",
    "\n",
    "![](../images/dodawanie_binarne.png)"
   ]
  },
  {
   "cell_type": "markdown",
   "metadata": {},
   "source": [
    "### Stwórzmy schemat dodawania liczb przy pomocy bramek\n",
    "\n",
    "https://logic.ly/demo"
   ]
  },
  {
   "cell_type": "code",
   "execution_count": null,
   "metadata": {},
   "outputs": [],
   "source": []
  },
  {
   "cell_type": "markdown",
   "metadata": {},
   "source": [
    "### Jeśli w ,,zautomatyzowanym'' dodawaniu liczb nadal jest dla Państwa coś niejasnego, polecam ten filmik.\n",
    "\n",
    "https://www.youtube.com/watch?v=wvJc9CZcvBc\n"
   ]
  },
  {
   "cell_type": "code",
   "execution_count": null,
   "metadata": {},
   "outputs": [],
   "source": []
  }
 ],
 "metadata": {
  "kernelspec": {
   "display_name": "Python 3",
   "language": "python",
   "name": "python3"
  },
  "language_info": {
   "codemirror_mode": {
    "name": "ipython",
    "version": 3
   },
   "file_extension": ".py",
   "mimetype": "text/x-python",
   "name": "python",
   "nbconvert_exporter": "python",
   "pygments_lexer": "ipython3",
   "version": "3.8.0"
  }
 },
 "nbformat": 4,
 "nbformat_minor": 2
}
