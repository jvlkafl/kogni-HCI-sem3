{
 "cells": [
  {
   "cell_type": "markdown",
   "metadata": {},
   "source": [
    "# Jupyter notebook"
   ]
  },
  {
   "cell_type": "markdown",
   "metadata": {},
   "source": [
    "Przydatne skróty klawiszowe:\n",
    "\n",
    "* `Shift + Enter` – uruchamianie kodu\n",
    "\n",
    "* `Esc + b` – utworzenie nowej komórki \n",
    "\n",
    "* `Esc + m` – zamiana komórki na komórkę z komentarzem\n",
    "\n",
    "* `Ctrl + Shift + Minus ` – dzielenie komórki na pół\n",
    "\n",
    "* `Shift + Tab` – pokazuje informacje o funkcji\n"
   ]
  },
  {
   "cell_type": "code",
   "execution_count": null,
   "metadata": {},
   "outputs": [],
   "source": [
    "print(\"Hello world!\")"
   ]
  },
  {
   "cell_type": "code",
   "execution_count": null,
   "metadata": {},
   "outputs": [],
   "source": [
    "## Zamień ten teskt na notatkę"
   ]
  },
  {
   "cell_type": "code",
   "execution_count": null,
   "metadata": {},
   "outputs": [],
   "source": [
    "# Podziel komórkę \n",
    "print('Pierwsza komórka')\n",
    "print('Druga komórka')"
   ]
  },
  {
   "cell_type": "code",
   "execution_count": null,
   "metadata": {},
   "outputs": [],
   "source": [
    "1+1"
   ]
  },
  {
   "cell_type": "code",
   "execution_count": null,
   "metadata": {},
   "outputs": [],
   "source": [
    "# Nieskończona pętla w komórce"
   ]
  },
  {
   "cell_type": "markdown",
   "metadata": {},
   "source": [
    "# Przypomnienie pythona\n",
    "\n"
   ]
  },
  {
   "cell_type": "markdown",
   "metadata": {},
   "source": [
    "Typy zmiennych: \n",
    "* int\n",
    "* float\n",
    "* string\n",
    "* lista\n",
    "* słownik\n",
    "* boolean"
   ]
  },
  {
   "cell_type": "markdown",
   "metadata": {},
   "source": [
    "### int i float"
   ]
  },
  {
   "cell_type": "code",
   "execution_count": null,
   "metadata": {},
   "outputs": [],
   "source": [
    "liczba1 = 1\n",
    "liczba2 = 1.0"
   ]
  },
  {
   "cell_type": "code",
   "execution_count": null,
   "metadata": {},
   "outputs": [],
   "source": [
    "print(type(liczba1))\n",
    "print(type(liczba2))"
   ]
  },
  {
   "cell_type": "code",
   "execution_count": null,
   "metadata": {},
   "outputs": [],
   "source": [
    "liczba1 * liczba2"
   ]
  },
  {
   "cell_type": "markdown",
   "metadata": {},
   "source": [
    "### string"
   ]
  },
  {
   "cell_type": "code",
   "execution_count": null,
   "metadata": {},
   "outputs": [],
   "source": [
    "s = 'hello world'"
   ]
  },
  {
   "cell_type": "code",
   "execution_count": null,
   "metadata": {},
   "outputs": [],
   "source": [
    "# string jako lista liter\n",
    "s[2]"
   ]
  },
  {
   "cell_type": "markdown",
   "metadata": {},
   "source": [
    "Jak zamienić liczbę na string?"
   ]
  },
  {
   "cell_type": "code",
   "execution_count": null,
   "metadata": {},
   "outputs": [],
   "source": []
  },
  {
   "cell_type": "markdown",
   "metadata": {},
   "source": [
    "Jak połączyć stringi? "
   ]
  },
  {
   "cell_type": "code",
   "execution_count": null,
   "metadata": {},
   "outputs": [],
   "source": [
    "string1 = 'Sasin'\n",
    "string2 = 'zmarnował 70kk PLN na orgaznizację nielegalnych wyborów prezydenckich i nie poniósł za to odpowiedzialności.'\n",
    "\n",
    "string3 = ''.join([string1,string2])"
   ]
  },
  {
   "cell_type": "code",
   "execution_count": null,
   "metadata": {},
   "outputs": [],
   "source": [
    "print(string3)"
   ]
  },
  {
   "cell_type": "code",
   "execution_count": null,
   "metadata": {},
   "outputs": [],
   "source": []
  },
  {
   "cell_type": "markdown",
   "metadata": {},
   "source": [
    "Dzielenie stringów"
   ]
  },
  {
   "cell_type": "code",
   "execution_count": null,
   "metadata": {},
   "outputs": [],
   "source": [
    "string3.split(\" \")"
   ]
  },
  {
   "cell_type": "markdown",
   "metadata": {},
   "source": [
    "###   Zadanie 1 <img src=\"../images/pencil.png\" width=\"20\" align=\"left\">\n",
    "\n",
    "\n",
    "Dodaj zagnieżdżoną listę ['pierwszy', 'drugi'] na 3. pozycji listy `l` ((a) jako wstawienie w środek, oraz (b) zastąpnienie elementu)."
   ]
  },
  {
   "cell_type": "code",
   "execution_count": null,
   "metadata": {},
   "outputs": [],
   "source": [
    "l = [1,2,3,4]"
   ]
  },
  {
   "cell_type": "code",
   "execution_count": null,
   "metadata": {},
   "outputs": [],
   "source": []
  },
  {
   "cell_type": "markdown",
   "metadata": {},
   "source": [
    "Wyprintuj element 'pierwszy'"
   ]
  },
  {
   "cell_type": "code",
   "execution_count": null,
   "metadata": {},
   "outputs": [],
   "source": []
  },
  {
   "cell_type": "markdown",
   "metadata": {},
   "source": [
    "### boolean"
   ]
  },
  {
   "cell_type": "code",
   "execution_count": null,
   "metadata": {},
   "outputs": [],
   "source": [
    "1 < 2 "
   ]
  },
  {
   "cell_type": "code",
   "execution_count": null,
   "metadata": {},
   "outputs": [],
   "source": [
    "1 > 2"
   ]
  },
  {
   "cell_type": "code",
   "execution_count": null,
   "metadata": {},
   "outputs": [],
   "source": [
    "1 != 1 and 2 == 2"
   ]
  },
  {
   "cell_type": "code",
   "execution_count": null,
   "metadata": {},
   "outputs": [],
   "source": [
    "if 'pies' != 'kot':\n",
    "    print('Prawda to.')"
   ]
  },
  {
   "cell_type": "markdown",
   "metadata": {},
   "source": [
    "# Pętle "
   ]
  },
  {
   "cell_type": "code",
   "execution_count": null,
   "metadata": {},
   "outputs": [],
   "source": [
    "import random\n",
    "\n",
    "przypadkowa_liczba = random.randint(0,10)"
   ]
  },
  {
   "cell_type": "code",
   "execution_count": null,
   "metadata": {},
   "outputs": [],
   "source": [
    "for i in range(100):\n",
    "    przypadkowa_liczba = random.randint(0,10)\n",
    "    if przypadkowa_liczba == 5:\n",
    "        print('sukces!')\n"
   ]
  },
  {
   "cell_type": "markdown",
   "metadata": {},
   "source": [
    "###   Zadanie 2 <img src=\"../images/pencil.png\" width=\"20\" align=\"left\">\n",
    "\n",
    "Stwórz funckję przyjmującą string, zwracającą komunikat \"Krótki string\" jeśli ma mniej niż 20 znaków lub \"Długi string\" w innym wypadku. "
   ]
  },
  {
   "cell_type": "code",
   "execution_count": null,
   "metadata": {},
   "outputs": [],
   "source": [
    "def ...\n"
   ]
  },
  {
   "cell_type": "code",
   "execution_count": null,
   "metadata": {},
   "outputs": [],
   "source": []
  },
  {
   "cell_type": "markdown",
   "metadata": {},
   "source": [
    "###   Zadanie 3 <img src=\"../images/pencil.png\" width=\"20\" align=\"left\">\n",
    "\n",
    "Podziel \"listę\" na 4 listy zawierające taki sam typ zmiennych."
   ]
  },
  {
   "cell_type": "code",
   "execution_count": null,
   "metadata": {},
   "outputs": [],
   "source": [
    "lista = [0.1662460254568443, False, 29, False, 'Ut', 'incididunt', 'quis', 'ut', 'voluptate', 90, 63, 'qui', \n",
    "         'esse', 70, 'irure', False, 'eiusmod', False, 74, 43, 'reprehenderit', True, 28, 17, 'ullamco', 'aliqua.',\n",
    "         'amet,', 'ut', 'eu', 'do', 'adipiscing', 'exercitation', 'Excepteur', 97, False, True, False, 'laborum.',\n",
    "         'est', 'deserunt', False, True, 0.8729973943456, 'commodo', 96, False, True, 0.4162599766276919, True, \n",
    "         0.6430261755652208, 'fugiat', 33, 56, 'occaecat', 'laboris', 'pariatur.', 75, 'nulla', 'aliquip', \n",
    "         0.03403850347427895, 94, 40, 62, 'mollit', 'enim', False, 52, False, 'anim', True, 'consectetur', 'aute',\n",
    "         'culpa', 'elit,', 5, False, 'consequat.', 'dolore', 0.4129889954999916, 0.12516456851300695, 'minim', \n",
    "         'sed', 'proident,', 'cillum', 0.10520510871816657, 0.3694814128854721, 'et', False, 'dolor', False, True, \n",
    "         39, 'officia', True, 'Duis', False, True, 'dolor', 'ipsum', 37, 14, 'ea', 0.1835730692364016, 95, 'ad', \n",
    "         True, 'Lorem', True, 'nostrud', 'magna', 'in', 'nisi', 'sit', False, True, 0.6231037243150827, 64, \n",
    "         'tempor', 'veniam,', 'cupidatat', 'dolore', 'non', 6, False, 'sunt', False, 'labore', True, 'velit', \n",
    "         'in', 'ex', 'sint', 'id', 'in', 0.5919420523399874, 0.17070158733166696, False]"
   ]
  },
  {
   "cell_type": "code",
   "execution_count": null,
   "metadata": {},
   "outputs": [],
   "source": []
  },
  {
   "cell_type": "code",
   "execution_count": null,
   "metadata": {},
   "outputs": [],
   "source": []
  },
  {
   "cell_type": "markdown",
   "metadata": {},
   "source": [
    "###   Zadanie 4 <img src=\"../images/pencil.png\" width=\"20\" align=\"left\">\n",
    "\n",
    "Stwórz 100-elementową \"listę2\" z wylosowanymi wartościami od 1 do 100. Stwórz funkcję, która sprawdza (zwraca True) czy w liście występują 3 wartości pod rząd powyżej 90."
   ]
  },
  {
   "cell_type": "code",
   "execution_count": null,
   "metadata": {},
   "outputs": [],
   "source": []
  },
  {
   "cell_type": "code",
   "execution_count": null,
   "metadata": {},
   "outputs": [],
   "source": []
  }
 ],
 "metadata": {
  "kernelspec": {
   "display_name": "Python 3 (ipykernel)",
   "language": "python",
   "name": "python3"
  },
  "language_info": {
   "codemirror_mode": {
    "name": "ipython",
    "version": 3
   },
   "file_extension": ".py",
   "mimetype": "text/x-python",
   "name": "python",
   "nbconvert_exporter": "python",
   "pygments_lexer": "ipython3",
   "version": "3.8.10"
  }
 },
 "nbformat": 4,
 "nbformat_minor": 2
}
