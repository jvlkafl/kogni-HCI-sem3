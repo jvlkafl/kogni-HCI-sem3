{
 "cells": [
  {
   "cell_type": "markdown",
   "metadata": {},
   "source": [
    "# Jupyter notebook"
   ]
  },
  {
   "cell_type": "markdown",
   "metadata": {},
   "source": [
    "Przydatne skróty klawiszowe:\n",
    "\n",
    "* `Shift + Enter` – uruchamianie kodu\n",
    "\n",
    "* `Esc + b` – utworzenie nowej komórki \n",
    "\n",
    "* `Esc + m` – zamiana komórki na komórkę z komentarzem\n",
    "\n",
    "* `Ctrl + Shift + Minus ` – dzielenie komórki na pół\n",
    "\n",
    "* `Shift + Tab` – pokazuje informacje o funkcji\n"
   ]
  },
  {
   "cell_type": "code",
   "execution_count": 3,
   "metadata": {},
   "outputs": [
    {
     "name": "stdout",
     "output_type": "stream",
     "text": [
      "Hello world!\n"
     ]
    }
   ],
   "source": [
    "print(\"Hello world!\")"
   ]
  },
  {
   "cell_type": "markdown",
   "metadata": {},
   "source": [
    "## Zamień ten teskt na notatkę"
   ]
  },
  {
   "cell_type": "code",
   "execution_count": null,
   "metadata": {},
   "outputs": [],
   "source": [
    "# Podziel komórkę \n",
    "print('Pierwsza komórka')"
   ]
  },
  {
   "cell_type": "code",
   "execution_count": null,
   "metadata": {},
   "outputs": [],
   "source": [
    "print('Druga komórka')"
   ]
  },
  {
   "cell_type": "code",
   "execution_count": 2,
   "metadata": {},
   "outputs": [
    {
     "data": {
      "text/plain": [
       "2"
      ]
     },
     "execution_count": 2,
     "metadata": {},
     "output_type": "execute_result"
    }
   ],
   "source": [
    "1+1"
   ]
  },
  {
   "cell_type": "code",
   "execution_count": 12,
   "metadata": {},
   "outputs": [
    {
     "ename": "KeyboardInterrupt",
     "evalue": "",
     "output_type": "error",
     "traceback": [
      "\u001b[0;31m---------------------------------------------------------------------------\u001b[0m",
      "\u001b[0;31mKeyboardInterrupt\u001b[0m                         Traceback (most recent call last)",
      "Cell \u001b[0;32mIn [12], line 2\u001b[0m\n\u001b[1;32m      1\u001b[0m \u001b[38;5;66;03m# Nieskończona pętla w komórce\u001b[39;00m\n\u001b[0;32m----> 2\u001b[0m \u001b[38;5;28;01mwhile\u001b[39;00m(\u001b[38;5;28;01mTrue\u001b[39;00m):\n\u001b[1;32m      3\u001b[0m     \u001b[38;5;28;01mpass\u001b[39;00m\n",
      "\u001b[0;31mKeyboardInterrupt\u001b[0m: "
     ]
    }
   ],
   "source": [
    "# Nieskończona pętla w komórce\n",
    "while(True):\n",
    "    pass"
   ]
  },
  {
   "cell_type": "markdown",
   "metadata": {},
   "source": [
    "# Przypomnienie pythona\n",
    "\n"
   ]
  },
  {
   "cell_type": "markdown",
   "metadata": {},
   "source": [
    "Typy zmiennych: \n",
    "* int\n",
    "* float\n",
    "* string\n",
    "* lista\n",
    "* słownik\n",
    "* boolean"
   ]
  },
  {
   "cell_type": "markdown",
   "metadata": {},
   "source": [
    "### int i float"
   ]
  },
  {
   "cell_type": "code",
   "execution_count": 8,
   "metadata": {},
   "outputs": [],
   "source": [
    "liczba1 = 1\n",
    "liczba2 = 1.0"
   ]
  },
  {
   "cell_type": "code",
   "execution_count": 9,
   "metadata": {},
   "outputs": [
    {
     "name": "stdout",
     "output_type": "stream",
     "text": [
      "<class 'int'>\n",
      "<class 'float'>\n"
     ]
    }
   ],
   "source": [
    "print(type(liczba1))\n",
    "print(type(liczba2))"
   ]
  },
  {
   "cell_type": "code",
   "execution_count": 10,
   "metadata": {},
   "outputs": [
    {
     "data": {
      "text/plain": [
       "1.0"
      ]
     },
     "execution_count": 10,
     "metadata": {},
     "output_type": "execute_result"
    }
   ],
   "source": [
    "liczba1 * liczba2"
   ]
  },
  {
   "cell_type": "markdown",
   "metadata": {},
   "source": [
    "### string"
   ]
  },
  {
   "cell_type": "code",
   "execution_count": 4,
   "metadata": {},
   "outputs": [],
   "source": [
    "s = 'hello world'"
   ]
  },
  {
   "cell_type": "code",
   "execution_count": 5,
   "metadata": {},
   "outputs": [
    {
     "data": {
      "text/plain": [
       "'l'"
      ]
     },
     "execution_count": 5,
     "metadata": {},
     "output_type": "execute_result"
    }
   ],
   "source": [
    "# string jako lista liter\n",
    "s[2]"
   ]
  },
  {
   "cell_type": "markdown",
   "metadata": {},
   "source": [
    "Jak zamienić liczbę na string?"
   ]
  },
  {
   "cell_type": "code",
   "execution_count": 11,
   "metadata": {},
   "outputs": [
    {
     "name": "stdout",
     "output_type": "stream",
     "text": [
      "<class 'str'>\n"
     ]
    }
   ],
   "source": [
    "x=str(2)\n",
    "print(type(x))"
   ]
  },
  {
   "cell_type": "markdown",
   "metadata": {},
   "source": [
    "Jak połączyć stringi? "
   ]
  },
  {
   "cell_type": "code",
   "execution_count": 13,
   "metadata": {},
   "outputs": [],
   "source": [
    "string1 = 'Sasin'\n",
    "string2 = 'zmarnował 70kk PLN na orgaznizację nielegalnych wyborów prezydenckich i nie poniósł za to odpowiedzialności.'\n",
    "\n",
    "string3 = ''.join([string1,string2])"
   ]
  },
  {
   "cell_type": "code",
   "execution_count": 14,
   "metadata": {},
   "outputs": [
    {
     "name": "stdout",
     "output_type": "stream",
     "text": [
      "Sasinzmarnował 70kk PLN na orgaznizację nielegalnych wyborów prezydenckich i nie poniósł za to odpowiedzialności.\n"
     ]
    }
   ],
   "source": [
    "print(string3)"
   ]
  },
  {
   "cell_type": "code",
   "execution_count": null,
   "metadata": {},
   "outputs": [],
   "source": []
  },
  {
   "cell_type": "markdown",
   "metadata": {},
   "source": [
    "Dzielenie stringów"
   ]
  },
  {
   "cell_type": "code",
   "execution_count": 15,
   "metadata": {},
   "outputs": [
    {
     "data": {
      "text/plain": [
       "['Sasinzmarnował',\n",
       " '70kk',\n",
       " 'PLN',\n",
       " 'na',\n",
       " 'orgaznizację',\n",
       " 'nielegalnych',\n",
       " 'wyborów',\n",
       " 'prezydenckich',\n",
       " 'i',\n",
       " 'nie',\n",
       " 'poniósł',\n",
       " 'za',\n",
       " 'to',\n",
       " 'odpowiedzialności.']"
      ]
     },
     "execution_count": 15,
     "metadata": {},
     "output_type": "execute_result"
    }
   ],
   "source": [
    "string3.split(\" \")"
   ]
  },
  {
   "cell_type": "markdown",
   "metadata": {},
   "source": [
    "###   Zadanie 1 <img src=\"../images/pencil.png\" width=\"20\" align=\"left\">\n",
    "\n",
    "\n",
    "Dodaj zagnieżdżoną listę ['pierwszy', 'drugi'] na 3. pozycji listy `l` ((a) jako wstawienie w środek, oraz (b) zastąpnienie elementu)."
   ]
  },
  {
   "cell_type": "code",
   "execution_count": 42,
   "metadata": {},
   "outputs": [],
   "source": [
    "l = [1,2,3,4]"
   ]
  },
  {
   "cell_type": "code",
   "execution_count": 44,
   "metadata": {},
   "outputs": [
    {
     "name": "stdout",
     "output_type": "stream",
     "text": [
      "[1, 2, 3, ['pierwszy', 'drugi']]\n"
     ]
    }
   ],
   "source": [
    "l[3]=['pierwszy', 'drugi']\n",
    "print(l)"
   ]
  },
  {
   "cell_type": "code",
   "execution_count": 41,
   "metadata": {},
   "outputs": [
    {
     "name": "stdout",
     "output_type": "stream",
     "text": [
      "[1, 2, 3, ['pierwszy', 'drugi'], 4]\n"
     ]
    }
   ],
   "source": [
    "l.insert(3, ['pierwszy', 'drugi'])\n",
    "print(l)"
   ]
  },
  {
   "cell_type": "markdown",
   "metadata": {},
   "source": [
    "Wyprintuj element 'pierwszy'"
   ]
  },
  {
   "cell_type": "code",
   "execution_count": 19,
   "metadata": {},
   "outputs": [
    {
     "name": "stdout",
     "output_type": "stream",
     "text": [
      "pierwszy\n"
     ]
    }
   ],
   "source": [
    "print(l[3][0])"
   ]
  },
  {
   "cell_type": "markdown",
   "metadata": {},
   "source": [
    "### boolean"
   ]
  },
  {
   "cell_type": "code",
   "execution_count": 23,
   "metadata": {},
   "outputs": [
    {
     "data": {
      "text/plain": [
       "True"
      ]
     },
     "execution_count": 23,
     "metadata": {},
     "output_type": "execute_result"
    }
   ],
   "source": [
    "1 < 2 "
   ]
  },
  {
   "cell_type": "code",
   "execution_count": 24,
   "metadata": {},
   "outputs": [
    {
     "data": {
      "text/plain": [
       "False"
      ]
     },
     "execution_count": 24,
     "metadata": {},
     "output_type": "execute_result"
    }
   ],
   "source": [
    "1 > 2"
   ]
  },
  {
   "cell_type": "code",
   "execution_count": 25,
   "metadata": {},
   "outputs": [
    {
     "data": {
      "text/plain": [
       "False"
      ]
     },
     "execution_count": 25,
     "metadata": {},
     "output_type": "execute_result"
    }
   ],
   "source": [
    "1 != 1 and 2 == 2"
   ]
  },
  {
   "cell_type": "code",
   "execution_count": 26,
   "metadata": {},
   "outputs": [
    {
     "name": "stdout",
     "output_type": "stream",
     "text": [
      "Prawda to.\n"
     ]
    }
   ],
   "source": [
    "if 'pies' != 'kot':\n",
    "    print('Prawda to.')"
   ]
  },
  {
   "cell_type": "markdown",
   "metadata": {},
   "source": [
    "# Pętle "
   ]
  },
  {
   "cell_type": "code",
   "execution_count": 27,
   "metadata": {},
   "outputs": [],
   "source": [
    "import random\n",
    "\n",
    "przypadkowa_liczba = random.randint(0,10)"
   ]
  },
  {
   "cell_type": "code",
   "execution_count": 28,
   "metadata": {},
   "outputs": [
    {
     "name": "stdout",
     "output_type": "stream",
     "text": [
      "sukces!\n",
      "sukces!\n",
      "sukces!\n",
      "sukces!\n",
      "sukces!\n",
      "sukces!\n"
     ]
    }
   ],
   "source": [
    "for i in range(100):\n",
    "    przypadkowa_liczba = random.randint(0,10)\n",
    "    if przypadkowa_liczba == 5:\n",
    "        print('sukces!')\n"
   ]
  },
  {
   "cell_type": "markdown",
   "metadata": {},
   "source": [
    "###   Zadanie 2 <img src=\"../images/pencil.png\" width=\"20\" align=\"left\">\n",
    "\n",
    "Stwórz funckję przyjmującą string, zwracającą komunikat \"Krótki string\" jeśli ma mniej niż 20 znaków lub \"Długi string\" w innym wypadku. "
   ]
  },
  {
   "cell_type": "code",
   "execution_count": 30,
   "metadata": {},
   "outputs": [],
   "source": [
    "def dlugoscStr(string):\n",
    "    if len(string)<20:\n",
    "        print(\"Krótki string\")\n",
    "    else:\n",
    "        print('Dlugi string')\n"
   ]
  },
  {
   "cell_type": "code",
   "execution_count": 32,
   "metadata": {},
   "outputs": [
    {
     "name": "stdout",
     "output_type": "stream",
     "text": [
      "Dlugi string\n"
     ]
    }
   ],
   "source": [
    "dlugoscStr('sdfhjkjhsdfghjkjhgfdsgfd')"
   ]
  },
  {
   "cell_type": "markdown",
   "metadata": {},
   "source": [
    "###   Zadanie 3 <img src=\"../images/pencil.png\" width=\"20\" align=\"left\">\n",
    "\n",
    "Podziel \"listę\" na 4 listy zawierające taki sam typ zmiennych."
   ]
  },
  {
   "cell_type": "code",
   "execution_count": 34,
   "metadata": {},
   "outputs": [],
   "source": [
    "lista = [0.1662460254568443, False, 29, False, 'Ut', 'incididunt', 'quis', 'ut', 'voluptate', 90, 63, 'qui', \n",
    "         'esse', 70, 'irure', False, 'eiusmod', False, 74, 43, 'reprehenderit', True, 28, 17, 'ullamco', 'aliqua.',\n",
    "         'amet,', 'ut', 'eu', 'do', 'adipiscing', 'exercitation', 'Excepteur', 97, False, True, False, 'laborum.',\n",
    "         'est', 'deserunt', False, True, 0.8729973943456, 'commodo', 96, False, True, 0.4162599766276919, True, \n",
    "         0.6430261755652208, 'fugiat', 33, 56, 'occaecat', 'laboris', 'pariatur.', 75, 'nulla', 'aliquip', \n",
    "         0.03403850347427895, 94, 40, 62, 'mollit', 'enim', False, 52, False, 'anim', True, 'consectetur', 'aute',\n",
    "         'culpa', 'elit,', 5, False, 'consequat.', 'dolore', 0.4129889954999916, 0.12516456851300695, 'minim', \n",
    "         'sed', 'proident,', 'cillum', 0.10520510871816657, 0.3694814128854721, 'et', False, 'dolor', False, True, \n",
    "         39, 'officia', True, 'Duis', False, True, 'dolor', 'ipsum', 37, 14, 'ea', 0.1835730692364016, 95, 'ad', \n",
    "         True, 'Lorem', True, 'nostrud', 'magna', 'in', 'nisi', 'sit', False, True, 0.6231037243150827, 64, \n",
    "         'tempor', 'veniam,', 'cupidatat', 'dolore', 'non', 6, False, 'sunt', False, 'labore', True, 'velit', \n",
    "         'in', 'ex', 'sint', 'id', 'in', 0.5919420523399874, 0.17070158733166696, False]"
   ]
  },
  {
   "cell_type": "code",
   "execution_count": 36,
   "metadata": {},
   "outputs": [],
   "source": [
    "listaBool=[]\n",
    "listaFloat=[]\n",
    "listaString=[]\n",
    "listaInt=[]\n",
    "\n",
    "for i in lista:\n",
    "    if type(i)==bool:\n",
    "        listaBool.append(i)\n",
    "    elif type(i)==int:\n",
    "        listaInt.append(i)\n",
    "    elif type(i)==float:\n",
    "        listaFloat.append(i)\n",
    "    elif type(i)==str:\n",
    "        listaString.append(i)"
   ]
  },
  {
   "cell_type": "code",
   "execution_count": 37,
   "metadata": {},
   "outputs": [
    {
     "name": "stdout",
     "output_type": "stream",
     "text": [
      "[False, False, False, False, True, False, True, False, False, True, False, True, True, False, False, True, False, False, False, True, True, False, True, True, True, False, True, False, False, True, False]\n",
      "[0.1662460254568443, 0.8729973943456, 0.4162599766276919, 0.6430261755652208, 0.03403850347427895, 0.4129889954999916, 0.12516456851300695, 0.10520510871816657, 0.3694814128854721, 0.1835730692364016, 0.6231037243150827, 0.5919420523399874, 0.17070158733166696]\n",
      "['Ut', 'incididunt', 'quis', 'ut', 'voluptate', 'qui', 'esse', 'irure', 'eiusmod', 'reprehenderit', 'ullamco', 'aliqua.', 'amet,', 'ut', 'eu', 'do', 'adipiscing', 'exercitation', 'Excepteur', 'laborum.', 'est', 'deserunt', 'commodo', 'fugiat', 'occaecat', 'laboris', 'pariatur.', 'nulla', 'aliquip', 'mollit', 'enim', 'anim', 'consectetur', 'aute', 'culpa', 'elit,', 'consequat.', 'dolore', 'minim', 'sed', 'proident,', 'cillum', 'et', 'dolor', 'officia', 'Duis', 'dolor', 'ipsum', 'ea', 'ad', 'Lorem', 'nostrud', 'magna', 'in', 'nisi', 'sit', 'tempor', 'veniam,', 'cupidatat', 'dolore', 'non', 'sunt', 'labore', 'velit', 'in', 'ex', 'sint', 'id', 'in']\n",
      "[29, 90, 63, 70, 74, 43, 28, 17, 97, 96, 33, 56, 75, 94, 40, 62, 52, 5, 39, 37, 14, 95, 64, 6]\n"
     ]
    }
   ],
   "source": [
    "print(listaBool)\n",
    "print(listaFloat)\n",
    "print(listaString)\n",
    "print(listaInt)"
   ]
  },
  {
   "cell_type": "markdown",
   "metadata": {},
   "source": [
    "###   Zadanie 4 <img src=\"../images/pencil.png\" width=\"20\" align=\"left\">\n",
    "\n",
    "Stwórz 100-elementową \"listę2\" z wylosowanymi wartościami od 1 do 100. Stwórz funkcję, która sprawdza (zwraca True) czy w liście występują 3 wartości pod rząd powyżej 90."
   ]
  },
  {
   "cell_type": "code",
   "execution_count": 66,
   "metadata": {},
   "outputs": [],
   "source": [
    "import random\n",
    "lista2=[]\n",
    "for i in range(100):\n",
    "    lista2.append(random.randint(0,101))\n",
    "    \n",
    "for i in range(len(lista2)-2):\n",
    "    if lista2[i]>90 and lista2[i+1]>90 and lista2[i+2]>90:\n",
    "        print(True, i)"
   ]
  },
  {
   "cell_type": "code",
   "execution_count": 67,
   "metadata": {},
   "outputs": [
    {
     "name": "stdout",
     "output_type": "stream",
     "text": [
      "[64, 76, 46, 25, 84, 95, 22, 62, 7, 45, 35, 44, 18, 58, 94, 0, 33, 60, 101, 58, 14, 97, 54, 7, 35, 5, 90, 26, 35, 63, 76, 21, 73, 43, 86, 8, 95, 17, 16, 16, 87, 93, 2, 66, 36, 31, 41, 37, 79, 42, 101, 92, 73, 57, 86, 72, 69, 19, 68, 8, 66, 23, 78, 57, 53, 14, 99, 62, 10, 87, 30, 98, 32, 68, 99, 1, 64, 43, 47, 3, 53, 22, 42, 86, 11, 65, 24, 96, 35, 31, 10, 9, 49, 15, 10, 38, 84, 79, 15, 55]\n"
     ]
    }
   ],
   "source": [
    "print(lista2)"
   ]
  },
  {
   "cell_type": "code",
   "execution_count": null,
   "metadata": {},
   "outputs": [],
   "source": []
  }
 ],
 "metadata": {
  "kernelspec": {
   "display_name": "Python 3 (ipykernel)",
   "language": "python",
   "name": "python3"
  },
  "language_info": {
   "codemirror_mode": {
    "name": "ipython",
    "version": 3
   },
   "file_extension": ".py",
   "mimetype": "text/x-python",
   "name": "python",
   "nbconvert_exporter": "python",
   "pygments_lexer": "ipython3",
   "version": "3.10.7"
  }
 },
 "nbformat": 4,
 "nbformat_minor": 2
}
