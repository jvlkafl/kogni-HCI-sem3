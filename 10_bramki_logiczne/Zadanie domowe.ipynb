{
 "cells": [
  {
   "cell_type": "markdown",
   "metadata": {},
   "source": [
    "### Stwórz formułę KRZ przy pomocy poniższej rozpiski i przedstaw ją w postaci bramki logicznej. \n",
    "\n",
    "Opierając się na 5 ostatnich cyfrach swego indeksu, połącz zmienną *p* spójnikami, które odpowiadają poszczególnym numerom. Pogrupuj pary w nawiasy zaczynając od początku:\n",
    "\n",
    "* AND - 0, 7\n",
    "* OR - 1, 8\n",
    "* NAND - 2, 9\n",
    "* NOR - 3 \n",
    "* XOR - 4\n",
    "* XNOR - 5\n",
    "* Implikacja - 6\n",
    "\n",
    "Np. numer indeksu *123456* będzie mieć formułę:\n",
    "\n",
    "1. **p** NAND **p** NOR **p** XOR **p** XNOR **p** IMP **p**\n",
    "2. (**p** NAND **p**) NOR (**p** XOR **p**) XNOR (**p** IMP **p**)\n",
    "3. ((**p** NAND **p**) NOR (**p** XOR **p**)) XNOR (**p** IMP **p**)\n",
    "\n",
    "Proszę starać się przedstawić formułę jak najbardziej adekwatnie przy pomocy bramek. Polecam ten symulator w celu stworzenia bramki: https://logic.ly/demo. "
   ]
  },
  {
   "cell_type": "code",
   "execution_count": null,
   "metadata": {},
   "outputs": [],
   "source": [
    "x = input('Numer indeksu: ')\n",
    "\n",
    "rozpiska = {\n",
    "    0 : 'AND', \n",
    "    7 : 'AND',\n",
    "    1 : 'OR',\n",
    "    8 : 'OR',\n",
    "    2 : 'NAND',\n",
    "    9 : 'NAND',\n",
    "    3 : 'NOR',\n",
    "    4 : 'XOR',\n",
    "    5 : 'XNOR',\n",
    "    6 : 'IMP'\n",
    "}\n",
    "\n",
    "formula = '(( p '\n",
    "for i, num in enumerate(x[1:]):\n",
    "    formula += ' '+rozpiska[int(num)]+' '\n",
    "    if i in [1,3,5]:\n",
    "        formula += '('\n",
    "    formula += ' p '\n",
    "    if i in [0,4]:\n",
    "        formula += ')'\n",
    "    elif i == 2:\n",
    "        formula += '))'\n",
    "        \n",
    "print('Otrzymana formuła: '+formula)"
   ]
  },
  {
   "cell_type": "code",
   "execution_count": null,
   "metadata": {},
   "outputs": [],
   "source": []
  },
  {
   "cell_type": "code",
   "execution_count": null,
   "metadata": {},
   "outputs": [],
   "source": []
  }
 ],
 "metadata": {
  "kernelspec": {
   "display_name": "Python 3 (ipykernel)",
   "language": "python",
   "name": "python3"
  },
  "language_info": {
   "codemirror_mode": {
    "name": "ipython",
    "version": 3
   },
   "file_extension": ".py",
   "mimetype": "text/x-python",
   "name": "python",
   "nbconvert_exporter": "python",
   "pygments_lexer": "ipython3",
   "version": "3.8.10"
  }
 },
 "nbformat": 4,
 "nbformat_minor": 2
}
