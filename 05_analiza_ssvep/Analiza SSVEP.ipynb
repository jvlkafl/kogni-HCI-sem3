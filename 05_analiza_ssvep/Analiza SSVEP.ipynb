{
 "cells": [
  {
   "cell_type": "markdown",
   "metadata": {},
   "source": [
    "Imię:\n",
    "<br>\n",
    "Nazwisko:"
   ]
  },
  {
   "cell_type": "markdown",
   "metadata": {},
   "source": [
    "# SSVEP\n",
    "\n",
    "![](../images/kwadrat.gif)"
   ]
  },
  {
   "cell_type": "code",
   "execution_count": null,
   "metadata": {},
   "outputs": [],
   "source": [
    "import numpy as np\n",
    "import matplotlib.pyplot as plt\n",
    "import pandas as pd\n",
    "import aseegg as ag"
   ]
  },
  {
   "cell_type": "markdown",
   "metadata": {},
   "source": [
    "Dane na dzisiejsze zajęcia znajdują sie w pliku 'dane_ssvep.csv'. Każda kolumna to pomiar wykonany dla jednej osoby. Każdy kolejny wiersz to kolejne próbki. Sygnał próbkowany jest z częstotliwością 256 Hz."
   ]
  },
  {
   "cell_type": "code",
   "execution_count": null,
   "metadata": {},
   "outputs": [],
   "source": [
    "df = pd.read_csv('dane_ssvep.csv',sep=';')\n",
    "mojeDane = df['Sub01']"
   ]
  },
  {
   "cell_type": "markdown",
   "metadata": {},
   "source": [
    "Za XX wstaw swój numer (np. Sub01, Sub02, …, Sub11, itd. — dwie cyfry)."
   ]
  },
  {
   "cell_type": "code",
   "execution_count": null,
   "metadata": {},
   "outputs": [],
   "source": [
    "df"
   ]
  },
  {
   "cell_type": "code",
   "execution_count": null,
   "metadata": {},
   "outputs": [],
   "source": [
    "mojeDane"
   ]
  },
  {
   "cell_type": "code",
   "execution_count": null,
   "metadata": {},
   "outputs": [],
   "source": [
    "sygnal = np.array(mojeDane)"
   ]
  },
  {
   "cell_type": "code",
   "execution_count": null,
   "metadata": {},
   "outputs": [],
   "source": []
  },
  {
   "cell_type": "markdown",
   "metadata": {},
   "source": [
    "###   Zadanie <img src=\"../images/pencil.png\" width=\"20\" align=\"left\">\n",
    "\n",
    "\n",
    "1. Wybierz kolejny filtr tak, aby usunąć składowe poniżej 3 Hz.\n",
    "2. Przefiltruj swój sygnał tak, aby usunąć zakłócenia 50 Hz (filtrem pasmowo-zaporowym w paśmie 49-51 Hz).\n",
    "3. Wyświetl spektrogram w następujący sposób:"
   ]
  },
  {
   "cell_type": "code",
   "execution_count": null,
   "metadata": {},
   "outputs": [],
   "source": [
    "ag.spektrogram(przefiltrowanySygnal, 256)"
   ]
  },
  {
   "cell_type": "code",
   "execution_count": null,
   "metadata": {},
   "outputs": [],
   "source": [
    "# Aby powiększyć wykres w Jupyterze, można użyć funkcji:\n",
    "plt.rcParams['figure.figsize'] = [12, 8]"
   ]
  },
  {
   "cell_type": "markdown",
   "metadata": {},
   "source": [
    "Otrzymasz podobny rysunek:\n",
    "\n",
    "![](../images/spektrogram.png)\n"
   ]
  },
  {
   "cell_type": "markdown",
   "metadata": {},
   "source": [
    "Widać na nim, że w pewnym momencie (kolor ciemniejszy) pewne częstotliwości stają się dominujące (ciemno czerwony kolor). Sprawdź, jaka częstotliwość jest dominująca w Twoim sygnale oraz od której do której sekundy pomiaru występuje to zjawisko."
   ]
  },
  {
   "cell_type": "markdown",
   "metadata": {},
   "source": [
    "### Na jaką częstotliwość patrzyła osoba badana? Przeanalizuj wykresy w dziedzinie częstotliwości oraz spektrogram. Stwórz wykresy, podpisz osie oraz opisz słownie co przedstawiają. Prześlij arkusz z zajęć do prowadzącego. \n",
    "\n",
    "Dla przypomnienia: widmo to inaczej domena częstotliwości a więc wykres amplitudy od częstotliwości.\n"
   ]
  },
  {
   "cell_type": "code",
   "execution_count": null,
   "metadata": {},
   "outputs": [],
   "source": []
  },
  {
   "cell_type": "code",
   "execution_count": null,
   "metadata": {},
   "outputs": [],
   "source": []
  },
  {
   "cell_type": "code",
   "execution_count": null,
   "metadata": {},
   "outputs": [],
   "source": []
  },
  {
   "cell_type": "code",
   "execution_count": null,
   "metadata": {},
   "outputs": [],
   "source": []
  },
  {
   "cell_type": "code",
   "execution_count": null,
   "metadata": {},
   "outputs": [],
   "source": []
  },
  {
   "cell_type": "markdown",
   "metadata": {},
   "source": [
    "### Jak można wykorzystać sygnał SSVEP przy tworzeniu interfejsów?"
   ]
  },
  {
   "cell_type": "code",
   "execution_count": null,
   "metadata": {},
   "outputs": [],
   "source": []
  }
 ],
 "metadata": {
  "kernelspec": {
   "display_name": "Python 3",
   "language": "python",
   "name": "python3"
  },
  "language_info": {
   "codemirror_mode": {
    "name": "ipython",
    "version": 3
   },
   "file_extension": ".py",
   "mimetype": "text/x-python",
   "name": "python",
   "nbconvert_exporter": "python",
   "pygments_lexer": "ipython3",
   "version": "3.8.0"
  }
 },
 "nbformat": 4,
 "nbformat_minor": 2
}
