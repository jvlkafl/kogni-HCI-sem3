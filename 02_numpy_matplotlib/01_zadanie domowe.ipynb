{
 "cells": [
  {
   "cell_type": "markdown",
   "metadata": {},
   "source": [
    "### Przy pomocy indeksowania wybierz słowo 'kot' z listy"
   ]
  },
  {
   "cell_type": "code",
   "execution_count": 6,
   "metadata": {},
   "outputs": [],
   "source": [
    "lista = [1,[2,3],[[6,'kot',7],8],[[4],5,[5,7],9]]"
   ]
  },
  {
   "cell_type": "code",
   "execution_count": 9,
   "metadata": {},
   "outputs": [
    {
     "data": {
      "text/plain": [
       "'kot'"
      ]
     },
     "execution_count": 9,
     "metadata": {},
     "output_type": "execute_result"
    }
   ],
   "source": [
    "lista[2][0][1]"
   ]
  },
  {
   "cell_type": "markdown",
   "metadata": {},
   "source": [
    "### Stwórz słownik w którym zapiszesz swoje 'imię', 'nazwisko', 'wiek' oraz 'stanowisko w sporze o uniwersalia' i wyprintuj dowolny element z tego słownika. "
   ]
  },
  {
   "cell_type": "code",
   "execution_count": 13,
   "metadata": {},
   "outputs": [],
   "source": [
    "slownik = {\n",
    "    \"imie\":\"Julia\",\n",
    "    \"nazwisko\":\"Flejsierowicz\",\n",
    "    \"stanowisko w sporze o uniwersalia\":\"nominalizm\"\n",
    "}"
   ]
  },
  {
   "cell_type": "code",
   "execution_count": 14,
   "metadata": {},
   "outputs": [
    {
     "data": {
      "text/plain": [
       "'Julia'"
      ]
     },
     "execution_count": 14,
     "metadata": {},
     "output_type": "execute_result"
    }
   ],
   "source": [
    "slownik[\"imie\"]"
   ]
  },
  {
   "cell_type": "markdown",
   "metadata": {},
   "source": [
    "### Stwórz funckję, która przyjmuje listę oraz liczbę jako argumenty. Funkcja powinna:\n",
    "* ### sprawdzać długość listy. Jeśli lista ma już 15 elementów, funkcja ma informować, że jest pełna i zwracać tę samą listę\n",
    "* ### sprawdzać czy nowa liczba jest już w liście. Jeśli jest, funkcja printuje \"Liczba jest już elementem listy\" i zwraca listę. Jeśli nie ma, printuje \"Liczba dodana\" i zwraca listę z dodanym elementem."
   ]
  },
  {
   "cell_type": "code",
   "execution_count": 16,
   "metadata": {},
   "outputs": [],
   "source": [
    "def funkcja(lista,liczba):\n",
    "    if len(lista)>=15:\n",
    "        return \"Lista jest już pełna\", lista\n",
    "    else:\n",
    "        if liczba in lista:\n",
    "            return \"Liczba jest już elementem listy\", lista\n",
    "        else:\n",
    "            lista.append(liczba)\n",
    "            return \"Liczba dodana\", lista"
   ]
  },
  {
   "cell_type": "code",
   "execution_count": 20,
   "metadata": {},
   "outputs": [
    {
     "name": "stdout",
     "output_type": "stream",
     "text": [
      "('Lista jest już pełna', [1, 2, 3, 4, 5, 6, 7, 8, 3, 4, 6, 8, 3, 2, 1, 5, 7, 8, 4, 3, 2, 5])\n"
     ]
    }
   ],
   "source": [
    "lista=[1,2,3,4,5,6,7,8,3,4,6,8,3,2,1,5,7,8,4,3,2,5]\n",
    "liczba=9\n",
    "print(funkcja(lista,liczba))"
   ]
  },
  {
   "cell_type": "code",
   "execution_count": 24,
   "metadata": {},
   "outputs": [
    {
     "name": "stdout",
     "output_type": "stream",
     "text": [
      "('Liczba jest już elementem listy', [1, 2, 3, 4, 5, 6, 7, 8, 3])\n"
     ]
    }
   ],
   "source": [
    "lista2=[1,2,3,4,5,6,7,8,3]\n",
    "liczba2=5\n",
    "print(funkcja(lista2,liczba2))"
   ]
  },
  {
   "cell_type": "code",
   "execution_count": 25,
   "metadata": {},
   "outputs": [
    {
     "name": "stdout",
     "output_type": "stream",
     "text": [
      "('Liczba dodana', [1, 2, 3, 4, 5, 6, 7, 8, 3, 9])\n"
     ]
    }
   ],
   "source": [
    "lista3=[1,2,3,4,5,6,7,8,3]\n",
    "liczba3=9\n",
    "print(funkcja(lista3,liczba3))"
   ]
  },
  {
   "cell_type": "code",
   "execution_count": 26,
   "metadata": {},
   "outputs": [],
   "source": [
    "import numpy as np"
   ]
  },
  {
   "cell_type": "markdown",
   "metadata": {},
   "source": [
    "### Stwórz array składający się z 20 zer"
   ]
  },
  {
   "cell_type": "code",
   "execution_count": 32,
   "metadata": {},
   "outputs": [
    {
     "data": {
      "text/plain": [
       "array([0., 0., 0., 0., 0., 0., 0., 0., 0., 0., 0., 0., 0., 0., 0., 0., 0.,\n",
       "       0., 0., 0.])"
      ]
     },
     "execution_count": 32,
     "metadata": {},
     "output_type": "execute_result"
    }
   ],
   "source": [
    "np.zeros(20)"
   ]
  },
  {
   "cell_type": "markdown",
   "metadata": {},
   "source": [
    "### Stwórz array 40 liczb w równych odstępach od liczby 2 do 3"
   ]
  },
  {
   "cell_type": "code",
   "execution_count": 33,
   "metadata": {},
   "outputs": [
    {
     "data": {
      "text/plain": [
       "array([2.        , 2.02564103, 2.05128205, 2.07692308, 2.1025641 ,\n",
       "       2.12820513, 2.15384615, 2.17948718, 2.20512821, 2.23076923,\n",
       "       2.25641026, 2.28205128, 2.30769231, 2.33333333, 2.35897436,\n",
       "       2.38461538, 2.41025641, 2.43589744, 2.46153846, 2.48717949,\n",
       "       2.51282051, 2.53846154, 2.56410256, 2.58974359, 2.61538462,\n",
       "       2.64102564, 2.66666667, 2.69230769, 2.71794872, 2.74358974,\n",
       "       2.76923077, 2.79487179, 2.82051282, 2.84615385, 2.87179487,\n",
       "       2.8974359 , 2.92307692, 2.94871795, 2.97435897, 3.        ])"
      ]
     },
     "execution_count": 33,
     "metadata": {},
     "output_type": "execute_result"
    }
   ],
   "source": [
    "np.linspace(2,3,40)"
   ]
  },
  {
   "cell_type": "code",
   "execution_count": null,
   "metadata": {},
   "outputs": [],
   "source": []
  },
  {
   "cell_type": "markdown",
   "metadata": {},
   "source": [
    "### Wybierz części arraya \"arr2d\" przy pomocy slicingu według przykładów poniżej"
   ]
  },
  {
   "cell_type": "code",
   "execution_count": 35,
   "metadata": {},
   "outputs": [
    {
     "data": {
      "text/plain": [
       "array([[10,  9,  8,  7,  6],\n",
       "       [10, 11, 12, 13, 14],\n",
       "       [ 0, -1, -2, -3, -4],\n",
       "       [ 0,  1,  2,  3,  4]])"
      ]
     },
     "execution_count": 35,
     "metadata": {},
     "output_type": "execute_result"
    }
   ],
   "source": [
    "arr2d = np.array([np.arange(10,5,-1),np.arange(10,15),np.arange(0,-5,-1),np.arange(0,5)])\n",
    "arr2d"
   ]
  },
  {
   "cell_type": "code",
   "execution_count": 36,
   "metadata": {},
   "outputs": [
    {
     "data": {
      "text/plain": [
       "array([ 9, 11, -1,  1])"
      ]
     },
     "execution_count": 36,
     "metadata": {},
     "output_type": "execute_result"
    }
   ],
   "source": [
    "arr2d[:,1]"
   ]
  },
  {
   "cell_type": "markdown",
   "metadata": {},
   "source": [
    "**array([ 9, 11, -1,  1])**"
   ]
  },
  {
   "cell_type": "code",
   "execution_count": 39,
   "metadata": {},
   "outputs": [
    {
     "data": {
      "text/plain": [
       "array([[ 8,  7,  6],\n",
       "       [12, 13, 14]])"
      ]
     },
     "execution_count": 39,
     "metadata": {},
     "output_type": "execute_result"
    }
   ],
   "source": [
    "arr2d[:2,2:]"
   ]
  },
  {
   "cell_type": "markdown",
   "metadata": {},
   "source": [
    "**array([[ 8,  7,  6], <br>\n",
    "  $\\;\\;\\;\\;\\;\\;\\;\\;$      [12, 13, 14]])**"
   ]
  },
  {
   "cell_type": "code",
   "execution_count": null,
   "metadata": {},
   "outputs": [],
   "source": []
  },
  {
   "cell_type": "markdown",
   "metadata": {},
   "source": [
    "### Policz sumę dla elementów z każdej kolumny arr2d"
   ]
  },
  {
   "cell_type": "code",
   "execution_count": 42,
   "metadata": {},
   "outputs": [
    {
     "data": {
      "text/plain": [
       "array([20, 20, 20, 20, 20])"
      ]
     },
     "execution_count": 42,
     "metadata": {},
     "output_type": "execute_result"
    }
   ],
   "source": [
    "arr2d.sum(axis=0)"
   ]
  },
  {
   "cell_type": "markdown",
   "metadata": {},
   "source": [
    "### Spróbuj odtworzyć poniższy wykres\n",
    "\n",
    "![](wykres_zadanie.png)"
   ]
  },
  {
   "cell_type": "code",
   "execution_count": 43,
   "metadata": {},
   "outputs": [],
   "source": [
    "import matplotlib.pyplot as plt\n",
    "%matplotlib inline"
   ]
  },
  {
   "cell_type": "code",
   "execution_count": 58,
   "metadata": {},
   "outputs": [],
   "source": [
    "x=[]\n",
    "#pomarańczowy:\n",
    "y=[]\n",
    "#niebieski:\n",
    "y2=[]\n",
    "for i in range(0,10):\n",
    "    x.append(i)\n",
    "    y.append(-2.5*x[i]+40)\n",
    "    y2.append(x[i]**2)\n",
    "    "
   ]
  },
  {
   "cell_type": "code",
   "execution_count": 59,
   "metadata": {},
   "outputs": [
    {
     "data": {
      "text/plain": [
       "<matplotlib.legend.Legend at 0x110ec6d40>"
      ]
     },
     "execution_count": 59,
     "metadata": {},
     "output_type": "execute_result"
    },
    {
     "data": {
      "image/png": "[encoded data removed]",
      "text/plain": [
       "<Figure size 640x480 with 1 Axes>"
      ]
     },
     "metadata": {},
     "output_type": "display_data"
    }
   ],
   "source": [
    "plt.plot(x,y2,label=\"Niebieski\",linestyle=\"dashed\")\n",
    "plt.plot(x,y,label=\"Pomarańczowy\")\n",
    "plt.xlabel(\"Iksy\")\n",
    "plt.ylabel(\"Igreki\")\n",
    "plt.legend()\n"
   ]
  },
  {
   "cell_type": "code",
   "execution_count": null,
   "metadata": {},
   "outputs": [],
   "source": []
  }
 ],
 "metadata": {
  "kernelspec": {
   "display_name": "Python 3 (ipykernel)",
   "language": "python",
   "name": "python3"
  },
  "language_info": {
   "codemirror_mode": {
    "name": "ipython",
    "version": 3
   },
   "file_extension": ".py",
   "mimetype": "text/x-python",
   "name": "python",
   "nbconvert_exporter": "python",
   "pygments_lexer": "ipython3",
   "version": "3.10.7"
  }
 },
 "nbformat": 4,
 "nbformat_minor": 2
}
