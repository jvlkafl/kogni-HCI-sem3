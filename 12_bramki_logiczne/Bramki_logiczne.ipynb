{
 "cells": [
  {
   "cell_type": "markdown",
   "metadata": {},
   "source": [
    "## Breadboard\n",
    "\n",
    "![](https://images.ctfassets.net/2lpsze4g694w/4RTiBRQJPNOQPDaKUh2brQ/68aae61ac17acde06aac093502e0b9f9/Breadboard_Anno.jpeg?w=800)"
   ]
  },
  {
   "cell_type": "markdown",
   "metadata": {},
   "source": [
    "## Dioda\n",
    "\n",
    "![](https://botland.com.pl/blog/wp-content/uploads/2020/05/led-plus-minus-300x296.jpg)"
   ]
  },
  {
   "cell_type": "markdown",
   "metadata": {},
   "source": [
    "## Tranzystor\n",
    "\n",
    "![](http://akademia.nettigo.pl/tranzystor_silnik/2N2222.jpg)"
   ]
  },
  {
   "cell_type": "markdown",
   "metadata": {},
   "source": [
    "###   Zadanie <img src=\"../images/pencil.png\" width=\"20\" align=\"left\">\n",
    "\n",
    "Stwórz działającą bramkę logiczną AND oraz OR przy pomocy 2 tranzystorów, 2 przełączników, 3 rezystorów oraz diody. "
   ]
  },
  {
   "cell_type": "code",
   "execution_count": null,
   "metadata": {},
   "outputs": [],
   "source": []
  },
  {
   "cell_type": "markdown",
   "metadata": {},
   "source": [
    "## Bramki logiczne\n",
    "\n",
    "W elektronice (informatyce) wykorzystywane są następujące bramki logiczne:\n",
    "\n",
    "![](../images/bramki.png)"
   ]
  },
  {
   "cell_type": "markdown",
   "metadata": {},
   "source": [
    "## Przekształcanie bramek na zdania KRZ oraz tabelki prawdziwościowe.\n",
    "\n",
    "Przykład 1\n",
    "\n",
    "![](../images/implikacja.png)"
   ]
  },
  {
   "cell_type": "markdown",
   "metadata": {},
   "source": [
    "Zapis zaczynamy od lewej strony, od dwóch wejść 'p' i 'q'. Pierwszy wyraz jest zanegowany (bramka not), więc:\n",
    "\n",
    "```\n",
    "¬p\n",
    "```\n",
    "\n",
    "Drugie wejście pozostaje bez zmian:\n",
    "\n",
    "```\n",
    "q\n",
    "```\n",
    "\n",
    "\n",
    "Bramka łącząca wszystko to bramka OR, więc ostatecznie:\n",
    "\n",
    "```\n",
    "¬p∨q\n",
    "```\n",
    "\n",
    "Jest to formuła mająca postać własnego spójnika logicznego.\n",
    "\n",
    "Sprawdźmy jakiego.\n",
    "\n",
    "    p|q\n",
    "    ---\n",
    "    0|0\n",
    "    0|1\n",
    "    1|0\n",
    "    1|1\n",
    "    \n",
    "Następnie negujemy pierwsze wejście (bramka NOT):\n",
    "\n",
    "    p|q|~p\n",
    "    -------\n",
    "    0|0| 1\n",
    "    0|1| 1\n",
    "    1|0| 0\n",
    "    1|1| 0\n",
    "    \n",
    "W ostatnim kroku łączymy zanegowane p oraz q znakiem alternatywy:\n",
    "\n",
    "    p|q|~p|~pvq\n",
    "    -----------\n",
    "    0|0| 1|   1\n",
    "    0|1| 1|   1\n",
    "    1|0| 0|   0\n",
    "    1|1| 0|   1\n",
    "    \n",
    "Co to za funkcja/spójnik?"
   ]
  },
  {
   "cell_type": "code",
   "execution_count": null,
   "metadata": {},
   "outputs": [],
   "source": []
  },
  {
   "cell_type": "markdown",
   "metadata": {},
   "source": [
    "###   Zadanie <img src=\"../images/pencil.png\" width=\"20\" align=\"left\">\n",
    "\n",
    "![](../images/zadanie.png)\n",
    "\n",
    "Tym razem mamy 3 wejścia. Nazwijmy je 'p','q','r'. Jaka formuła kryje się pod tymi bramkami?"
   ]
  },
  {
   "cell_type": "code",
   "execution_count": null,
   "metadata": {},
   "outputs": [],
   "source": [
    "not((p or q) and r)"
   ]
  },
  {
   "cell_type": "code",
   "execution_count": null,
   "metadata": {},
   "outputs": [],
   "source": []
  },
  {
   "cell_type": "markdown",
   "metadata": {},
   "source": [
    "###   Zadanie 2 <img src=\"../images/pencil.png\" width=\"20\" align=\"left\">\n",
    "\n",
    "![](../images/zadanie2.png)\n",
    "\n",
    "Jaka formuła kryje się pod tymi bramkami?"
   ]
  },
  {
   "cell_type": "code",
   "execution_count": null,
   "metadata": {},
   "outputs": [],
   "source": [
    "((p and not p) and q) xnor q"
   ]
  },
  {
   "cell_type": "code",
   "execution_count": null,
   "metadata": {},
   "outputs": [],
   "source": []
  },
  {
   "cell_type": "markdown",
   "metadata": {},
   "source": [
    "###   Zadanie 3 <img src=\"../images/pencil.png\" width=\"20\" align=\"left\">\n",
    "\n",
    "Stwórz formułę $ p \\rightarrow p $ przy pomocy bramek logicznych. "
   ]
  },
  {
   "cell_type": "code",
   "execution_count": null,
   "metadata": {},
   "outputs": [],
   "source": []
  },
  {
   "cell_type": "code",
   "execution_count": null,
   "metadata": {},
   "outputs": [],
   "source": []
  },
  {
   "cell_type": "markdown",
   "metadata": {},
   "source": [
    "## Dodawanie liczb binarnych przez komputer\n",
    "\n"
   ]
  },
  {
   "cell_type": "markdown",
   "metadata": {},
   "source": [
    "### Co się dzieje w kolumnach?\n",
    "\n",
    "![](../images/dodawanie_binarne.png)"
   ]
  },
  {
   "cell_type": "markdown",
   "metadata": {},
   "source": [
    "### Stwórzmy schemat dodawania liczb przy pomocy bramek\n",
    "\n",
    "https://logic.ly/demo"
   ]
  },
  {
   "cell_type": "markdown",
   "metadata": {},
   "source": [
    "### Jeśli w ,,zautomatyzowanym'' dodawaniu liczb nadal jest dla Państwa coś niejasnego, polecam ten filmik.\n",
    "\n",
    "https://www.youtube.com/watch?v=wvJc9CZcvBc"
   ]
  },
  {
   "cell_type": "code",
   "execution_count": null,
   "metadata": {},
   "outputs": [],
   "source": []
  },
  {
   "cell_type": "markdown",
   "metadata": {},
   "source": [
    "## Kod ASCII i szyfrowanie XOR"
   ]
  },
  {
   "cell_type": "markdown",
   "metadata": {},
   "source": [
    "Everything is just bits, even text. The word \"hello\" is in ASCII 01101000 01100101 01101100 01101100 01101111. Just normal bits, grouped in 5 bytes. Now you can encrypt this string with a random string of 5 bytes, like an One-time pad. Let's say we got the randomly generated string 10001001 10000010 00001011 01001101 11101101 (generated with www.random.org). Now we XOR both strings, getting 11100001 11100111 01100111 00100001 10000010. If you never reuse or reveal the key, nobody can crack this cipher. (Well, I did reveal the key, so it's not secure anymore.)\n",
    "\n",
    "Źródło: https://crypto.stackexchange.com/questions/19470/how-is-xor-used-for-encryption/19471#19471"
   ]
  },
  {
   "cell_type": "code",
   "execution_count": 2,
   "metadata": {},
   "outputs": [],
   "source": [
    "import numpy as np\n",
    "\n",
    "def string2bits(s=''):\n",
    "    return [bin(ord(x))[2:].zfill(8) for x in s]\n",
    "\n",
    "def bits2string(b=None):\n",
    "    return ''.join([chr(int(x, 2)) for x in b])\n",
    "\n",
    "# The ord() function returns the number representing the unicode code of a specified character.\n",
    "# The chr() function returns the character that represents the specified unicode.\n",
    "# The zfill() method adds zeros (0) at the beginning of the string, until it reaches the specified length."
   ]
  },
  {
   "cell_type": "code",
   "execution_count": 8,
   "metadata": {},
   "outputs": [
    {
     "data": {
      "text/plain": [
       "2"
      ]
     },
     "execution_count": 8,
     "metadata": {},
     "output_type": "execute_result"
    }
   ],
   "source": [
    "int('10',2)"
   ]
  },
  {
   "cell_type": "code",
   "execution_count": 3,
   "metadata": {},
   "outputs": [
    {
     "name": "stdout",
     "output_type": "stream",
     "text": [
      "['01110100', '01100001', '01101010', '01101110', '01100001', '00100000', '01110111', '01101001', '01100001', '01100100', '01101111', '01101101', '01101111', '01110011', '01100011']\n"
     ]
    }
   ],
   "source": [
    "do_zaszyfrowania = \"tajna wiadomosc\"\n",
    "\n",
    "zamienione_na_bity =  string2bits(do_zaszyfrowania)\n",
    "\n",
    "print(zamienione_na_bity)"
   ]
  },
  {
   "cell_type": "code",
   "execution_count": 5,
   "metadata": {},
   "outputs": [
    {
     "data": {
      "text/plain": [
       "'tajna wiadomosc'"
      ]
     },
     "execution_count": 5,
     "metadata": {},
     "output_type": "execute_result"
    }
   ],
   "source": [
    "bits2string(zamienione_na_bity)"
   ]
  },
  {
   "cell_type": "markdown",
   "metadata": {},
   "source": [
    "###   Zadanie <img src=\"../images/pencil.png\" width=\"20\" align=\"left\">\n",
    "\n",
    "Wygeneruj losowy 8-bitowy szyfr. \n",
    "Użyj funkcji random.randint(0,1) oraz ''.join() "
   ]
  },
  {
   "cell_type": "code",
   "execution_count": 4,
   "metadata": {},
   "outputs": [],
   "source": [
    "import random\n",
    "szyfr1 = []\n",
    "for i in range(8):\n",
    "    szyfr1.append(str(random.randint(0,1)))\n",
    "szyfr=''.join(szyfr1)"
   ]
  },
  {
   "cell_type": "code",
   "execution_count": 5,
   "metadata": {},
   "outputs": [
    {
     "data": {
      "text/plain": [
       "'11101110'"
      ]
     },
     "execution_count": 5,
     "metadata": {},
     "output_type": "execute_result"
    }
   ],
   "source": [
    "szyfr"
   ]
  },
  {
   "cell_type": "markdown",
   "metadata": {},
   "source": [
    "### XOR"
   ]
  },
  {
   "cell_type": "code",
   "execution_count": 22,
   "metadata": {},
   "outputs": [
    {
     "data": {
      "text/plain": [
       "0"
      ]
     },
     "execution_count": 22,
     "metadata": {},
     "output_type": "execute_result"
    }
   ],
   "source": [
    "1^1"
   ]
  },
  {
   "cell_type": "code",
   "execution_count": 9,
   "metadata": {},
   "outputs": [],
   "source": [
    "zaszyfrowane = []\n",
    "for litera in zamienione_na_bity:\n",
    "    zaszyfrowane.append('{0:b}'.format(int(litera,2)^int(szyfr,2)))"
   ]
  },
  {
   "cell_type": "code",
   "execution_count": 91,
   "metadata": {},
   "outputs": [
    {
     "data": {
      "text/plain": [
       "['10111010',\n",
       " '10101111',\n",
       " '10100100',\n",
       " '10100000',\n",
       " '10101111',\n",
       " '11101110',\n",
       " '10111001',\n",
       " '10100111',\n",
       " '10101111',\n",
       " '10101010',\n",
       " '10100001',\n",
       " '10100011',\n",
       " '10100001',\n",
       " '10111101',\n",
       " '10101101']"
      ]
     },
     "execution_count": 91,
     "metadata": {},
     "output_type": "execute_result"
    }
   ],
   "source": [
    "zaszyfrowane"
   ]
  },
  {
   "cell_type": "code",
   "execution_count": 92,
   "metadata": {},
   "outputs": [
    {
     "data": {
      "text/plain": [
       "'º¯¤\\xa0¯î¹§¯ª¡£¡½\\xad'"
      ]
     },
     "execution_count": 92,
     "metadata": {},
     "output_type": "execute_result"
    }
   ],
   "source": [
    "bits2string(zaszyfrowane)"
   ]
  },
  {
   "cell_type": "code",
   "execution_count": 93,
   "metadata": {},
   "outputs": [],
   "source": [
    "odszyfrowane = []\n",
    "for litera in zaszyfrowane:\n",
    "    odszyfrowane.append('{0:b}'.format(int(litera,2)^int(szyfr,2)))"
   ]
  },
  {
   "cell_type": "code",
   "execution_count": 94,
   "metadata": {},
   "outputs": [
    {
     "data": {
      "text/plain": [
       "'tajna wiadomosc'"
      ]
     },
     "execution_count": 94,
     "metadata": {},
     "output_type": "execute_result"
    }
   ],
   "source": [
    "bits2string(odszyfrowane)"
   ]
  },
  {
   "cell_type": "code",
   "execution_count": null,
   "metadata": {},
   "outputs": [],
   "source": []
  }
 ],
 "metadata": {
  "kernelspec": {
   "display_name": "Python 3 (ipykernel)",
   "language": "python",
   "name": "python3"
  },
  "language_info": {
   "codemirror_mode": {
    "name": "ipython",
    "version": 3
   },
   "file_extension": ".py",
   "mimetype": "text/x-python",
   "name": "python",
   "nbconvert_exporter": "python",
   "pygments_lexer": "ipython3",
   "version": "3.9.13"
  }
 },
 "nbformat": 4,
 "nbformat_minor": 2
}
