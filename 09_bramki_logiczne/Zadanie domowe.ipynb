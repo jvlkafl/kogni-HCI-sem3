{
 "cells": [
  {
   "cell_type": "markdown",
   "metadata": {},
   "source": [
    "### Wybierz dowolny aksjomat/tezę/tautologię KRZ i przedstaw go w postaci bramki logicznej. Każda osoba powinna wybrać inny aksjomat. Polecam ten symulator w celu stworzenia bramki: https://logic.ly/demo. Proszę starać się użyć jak najmniejszej możliwej liczby bramek.\n",
    "\n",
    "\n",
    "### Listę aksjomatów/tez znajdą Państwo w podręczniku Tadeusza Batoga, Podstawy logiki."
   ]
  },
  {
   "cell_type": "code",
   "execution_count": null,
   "metadata": {},
   "outputs": [],
   "source": []
  }
 ],
 "metadata": {
  "kernelspec": {
   "display_name": "Python 3",
   "language": "python",
   "name": "python3"
  },
  "language_info": {
   "codemirror_mode": {
    "name": "ipython",
    "version": 3
   },
   "file_extension": ".py",
   "mimetype": "text/x-python",
   "name": "python",
   "nbconvert_exporter": "python",
   "pygments_lexer": "ipython3",
   "version": "3.8.0"
  }
 },
 "nbformat": 4,
 "nbformat_minor": 2
}
