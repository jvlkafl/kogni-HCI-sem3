{
 "cells": [
  {
   "cell_type": "markdown",
   "metadata": {},
   "source": [
    "### Zadanie domowe dla 2. zajęć z analizy sygnałów"
   ]
  },
  {
   "cell_type": "markdown",
   "metadata": {},
   "source": [
    "Dla danych:\n",
    "\n",
    "- Czestotliwosc1[Hz] − 10Hz\n",
    "- Czestotliwosc2[Hz] − 25Hz\n",
    "- Czestotliwosc3[Hz] − 40Hz\n",
    "- Częstotliwość próbkowania: 500 Hz\n",
    "- Czas: 1s (dla każdego sygnału, w sumie 3s, patrz poniżej).\n",
    "\n",
    "Amplitudy: wybrać samemu, powinny być rożne dla każdego sygnału.\n",
    "\n",
    "Sygnał tworzymy następująco:"
   ]
  },
  {
   "cell_type": "code",
   "execution_count": null,
   "metadata": {},
   "outputs": [],
   "source": [
    "sygnal=np.concatenate([np.sin(2*np.pi*czestotliwosc1*t), np.sin(2*np.pi*czestotliwosc2*t),\n",
    "                       np.sin(2*np.pi*czestotliwosc3*t)])"
   ]
  },
  {
   "cell_type": "markdown",
   "metadata": {},
   "source": [
    "Innymi słowy, różne częstotliwości mają być ustawione jedna za drugą jak na poniższym wykresie.\n",
    "\n",
    "![3_czestotliwosci](../images/3_czestotliwosci.png)\n"
   ]
  },
  {
   "cell_type": "markdown",
   "metadata": {},
   "source": [
    "1. Przefiltruj sygnał filtrem pasmowo-przepustowym lub pasmowo-zaporowym, aby w wynikowym sygnale znajdował się tylko drugi sygnał. Jakiej filtracji użyjesz? Dlaczego? Odpowiedzi zapisz słownie w komórkach.\n",
    "\n",
    "2. Przefiltruj sygnał, aby w wynikowym sygnale znajdował się tylko pierwszy i trzeci sygnał. Jakiej filtracji użyjesz? Dlaczego? Załącz wykres w dziedzinie czasu i czestotliwosci.\n",
    "\n",
    "Narysuj wykresy w dziedzinie czasu i częstotliwości"
   ]
  },
  {
   "cell_type": "code",
   "execution_count": null,
   "metadata": {},
   "outputs": [],
   "source": []
  },
  {
   "cell_type": "code",
   "execution_count": null,
   "metadata": {},
   "outputs": [],
   "source": []
  },
  {
   "cell_type": "code",
   "execution_count": null,
   "metadata": {},
   "outputs": [],
   "source": []
  },
  {
   "cell_type": "code",
   "execution_count": null,
   "metadata": {},
   "outputs": [],
   "source": []
  }
 ],
 "metadata": {
  "kernelspec": {
   "display_name": "Python 3",
   "language": "python",
   "name": "python3"
  },
  "language_info": {
   "codemirror_mode": {
    "name": "ipython",
    "version": 3
   },
   "file_extension": ".py",
   "mimetype": "text/x-python",
   "name": "python",
   "nbconvert_exporter": "python",
   "pygments_lexer": "ipython3",
   "version": "3.8.0"
  }
 },
 "nbformat": 4,
 "nbformat_minor": 2
}
