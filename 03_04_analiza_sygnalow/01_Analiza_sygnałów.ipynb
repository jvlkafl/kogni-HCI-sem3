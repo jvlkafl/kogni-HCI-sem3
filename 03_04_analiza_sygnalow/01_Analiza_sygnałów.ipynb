{
 "cells": [
  {
   "cell_type": "markdown",
   "metadata": {},
   "source": [
    "Imię:\n",
    "<br>Nazwisko:\n",
    "<br>Grupa: "
   ]
  },
  {
   "cell_type": "markdown",
   "metadata": {},
   "source": [
    "# Analiza sygnałów\n",
    "\n",
    "Celem tych zajęć jest zapoznanie się z podstawowymi parametrami sygnału sinusoidalnego. Opisujący go wzór możemy zapisać następująco:\n",
    "\n",
    "$$y(t)=A∗sin(2∗π∗f∗t+φ)$$\n",
    "gdzie:\n",
    "\n",
    "- A - amplituda sygnału, jednostką jest to co reprezentuje,\n",
    "- f - częstotliwość sygnału [Hz],\n",
    "- t - czas [s],\n",
    "- phi - przesunięcie fazowe , w stopniach kątowych lub radianach."
   ]
  },
  {
   "cell_type": "markdown",
   "metadata": {},
   "source": [
    "## Amplituda\n",
    "\n",
    "![amplituda](../images/amplituda.jpg)\n",
    "\n",
    "Aby uzyskać efekt jak na pierwszym rysunku należy skorzystać z poniższego kodu:"
   ]
  },
  {
   "cell_type": "code",
   "execution_count": null,
   "metadata": {},
   "outputs": [],
   "source": [
    "import numpy as np\n",
    "import matplotlib.pyplot as plt"
   ]
  },
  {
   "cell_type": "code",
   "execution_count": null,
   "metadata": {},
   "outputs": [],
   "source": [
    "f = 3\n",
    "A = 1\n",
    "t = np.linspace(0, 1, 250)\n",
    "sygnal = A*np.sin(2*np.pi*f*t)\n",
    " \n",
    "plt.plot(t, sygnal)\n",
    "plt.show()"
   ]
  },
  {
   "cell_type": "markdown",
   "metadata": {},
   "source": [
    "Co trzeba zmienić, aby uzyskać efekt z pozostałych dwóch rysunków?"
   ]
  },
  {
   "cell_type": "markdown",
   "metadata": {},
   "source": [
    "## Częstotliwość \n",
    "\n",
    "Jest to ilość cykli danego zjawiska w jednostce czasu. Jednostką jest Herc [Hz].\n",
    "\n",
    "\n",
    "$$f=\\frac{n}{t}$$\n",
    "\n",
    "gdzie:\n",
    "\n",
    "- f - częstotliwość [Hz]\n",
    "- n - liczba cykli danego zjawiska [-]\n",
    "- t - czas [s]\n"
   ]
  },
  {
   "cell_type": "markdown",
   "metadata": {},
   "source": [
    "![czestotliwosc1](../images/czestotliwosc.jpg)"
   ]
  },
  {
   "cell_type": "markdown",
   "metadata": {},
   "source": [
    "Częstotliwość sygnału jest więc liczbą jego pełnych wystąpień w jednostce czasu. Ale uwaga! Nie wystarczy policzyć wystąpień sinusa, przeanalizujmy przykład:\n",
    "\n",
    "![czestotliwosc2](../images/czestotliwosc2.jpg)"
   ]
  },
  {
   "cell_type": "markdown",
   "metadata": {},
   "source": [
    "Aby uzyskać efekt jak na pierwszym rysunku należy skorzystać z poniższego kodu:"
   ]
  },
  {
   "cell_type": "code",
   "execution_count": null,
   "metadata": {},
   "outputs": [],
   "source": [
    "f = 1\n",
    "A = 1\n",
    "t = np.linspace(0, 1, 250)\n",
    "sygnal = A*np.sin(2*np.pi*f*t)\n",
    " \n",
    "plt.plot(t, sygnal)\n",
    "plt.show()"
   ]
  },
  {
   "cell_type": "markdown",
   "metadata": {},
   "source": [
    "Co trzeba zmienić, aby uzyskać efekt z pozostałych rysunków?"
   ]
  },
  {
   "cell_type": "markdown",
   "metadata": {},
   "source": [
    "## Przesunięcie fazowe\n",
    "\n",
    "Przesunięcie fazowe jest to różnica pomiędzy wartościami fazy dwóch sygnałów.\n",
    "\n",
    "![przesuniecie](../images/przesuniecie.jpg)\n",
    "\n",
    "Skąd bierze się $\\pi$?\n",
    "\n",
    "https://media1.giphy.com/media/NKLdcqhwo2f8A/source.gif"
   ]
  },
  {
   "cell_type": "markdown",
   "metadata": {},
   "source": [
    "Aby uzyskać efekt jak na pierwszym rysunku należy skorzystać z poniższego kodu:"
   ]
  },
  {
   "cell_type": "code",
   "execution_count": null,
   "metadata": {},
   "outputs": [],
   "source": [
    "f = 3\n",
    "A = 1\n",
    "t = np.linspace(0, 1, 250)\n",
    "sygnal = A*np.sin(2*np.pi*f*t)\n",
    " \n",
    "plt.plot(t, sygnal)\n",
    "plt.show()"
   ]
  },
  {
   "cell_type": "markdown",
   "metadata": {},
   "source": [
    "Co trzeba zmienić, aby uzyskać efekt z pozostałych dwóch rysunków?"
   ]
  },
  {
   "cell_type": "markdown",
   "metadata": {},
   "source": [
    "## Ćwiczenie 1 \n",
    "\n",
    "Stwórz poniżej wykres o amplitudzie 3, częstotliwości 7. Opisz osie wykresu. "
   ]
  },
  {
   "cell_type": "code",
   "execution_count": null,
   "metadata": {},
   "outputs": [],
   "source": []
  },
  {
   "cell_type": "markdown",
   "metadata": {},
   "source": [
    "## Próbkowanie i częstotliwość próbkowania\n",
    "\n",
    "Próbkowanie to proces tworzenia sygnału dyskretnego, reprezentującego sygnał ciągły za pomocą ciągu wartości nazywanych próbkami.\n",
    "Częstotliwość próbkowania to wartość określająca ilość zbieranych próbek w jednostce czasu.\n",
    "\n",
    "Porównajmy dwa take same sygnały, ale próbkowane z różną częstotliwością:"
   ]
  },
  {
   "cell_type": "code",
   "execution_count": null,
   "metadata": {},
   "outputs": [],
   "source": [
    "f = 5\n",
    "t = np.linspace(0, 1, 250)\n",
    "sygnal = np.sin(2*np.pi*f*t)\n",
    "plt.plot(t, sygnal)\n",
    " \n",
    "t = np.linspace(0, 1, 10)\n",
    "sygnal = np.sin(2*np.pi*f*t)\n",
    "plt.plot(t, sygnal)\n",
    " \n",
    "plt.show()"
   ]
  },
  {
   "cell_type": "markdown",
   "metadata": {},
   "source": [
    "Przy jakiej częstotliwości próbkowania sygnały zaczynają wyglądać podobnie? Rozważmy bardziej skomplikowany przykład:"
   ]
  },
  {
   "cell_type": "code",
   "execution_count": null,
   "metadata": {},
   "outputs": [],
   "source": [
    "f1 = 5\n",
    "f2 = 7\n",
    "f3 = 3\n",
    "t = np.linspace(0, 1, 250)\n",
    "sygnal = np.sin(2*np.pi*f1*t)+np.sin(2*np.pi*f2*t)+np.sin(2*np.pi*f3*t)\n",
    "plt.plot(t, sygnal)\n",
    " \n",
    "t = np.linspace(0, 1, 10)\n",
    "sygnal = np.sin(2*np.pi*f1*t)+np.sin(2*np.pi*f2*t)+np.sin(2*np.pi*f3*t)\n",
    "plt.plot(t, sygnal)\n",
    " \n",
    "plt.show()"
   ]
  },
  {
   "cell_type": "markdown",
   "metadata": {},
   "source": [
    "Przy jakiej częstotliwości próbkowania sygnały zaczynają wyglądać podobnie?"
   ]
  },
  {
   "cell_type": "code",
   "execution_count": null,
   "metadata": {},
   "outputs": [],
   "source": []
  },
  {
   "cell_type": "markdown",
   "metadata": {},
   "source": [
    "## Transformacja Fouriera"
   ]
  },
  {
   "cell_type": "markdown",
   "metadata": {},
   "source": [
    "![transformacja](https://i1.wp.com/aavos.eu/wp-content/uploads/2017/11/Fourier-transform.gif?fit=900%2C522&ssl=1)\n",
    "Źródło: https://aavos.eu/glossary/fourier-transform/"
   ]
  },
  {
   "cell_type": "markdown",
   "metadata": {},
   "source": [
    "Transformacja Fouriera służy do rozłożenia funkcji okresowej na szereg funkcji okresowych tak, że uzyskany rezultat odzwierciedla sposób w jaki poszczególne częstotliwości składają się na pierwotną funkcję."
   ]
  },
  {
   "cell_type": "code",
   "execution_count": null,
   "metadata": {},
   "outputs": [],
   "source": [
    "import aseegg as ag\n",
    " \n",
    "czestotliwosc = 5\n",
    "t = np.linspace (0, 1, 1*250)\n",
    "freq = np.linspace (0, 250, 1*250)\n",
    "sygnal = np.sin (2* np.pi*czestotliwosc*t)\n",
    "transformata = ag.FFT(sygnal)\n",
    " \n",
    "plt.subplot(2, 1, 1)\n",
    "plt.plot(t, sygnal)\n",
    "plt.subplot(2, 1, 2)\n",
    "plt.plot(freq, transformata)\n",
    "plt.xlim([0,40])\n",
    "plt.show()"
   ]
  },
  {
   "cell_type": "markdown",
   "metadata": {},
   "source": [
    "Przeanalizujmy wynik działania innego kodu:"
   ]
  },
  {
   "cell_type": "code",
   "execution_count": null,
   "metadata": {},
   "outputs": [],
   "source": [
    "czestotliwosc1 = 5\n",
    "czestotliwosc2 = 7\n",
    "czestotliwosc3 = 3\n",
    "t = np.linspace(0, 3, 3*250)\n",
    "freq = np.linspace(0, 250, 3*250)\n",
    "sygnal = np.sin(2* np.pi* czestotliwosc1 *t)+np.sin(2* np.pi* czestotliwosc2 *t)+np.sin(2* np.pi* czestotliwosc3 *t)\n",
    "transformata = ag.FFT(sygnal)\n",
    " \n",
    "plt.subplot(2, 1, 1)\n",
    "plt.plot(t, sygnal)\n",
    "plt.subplot(2, 1, 2)\n",
    "plt.stem(freq, transformata)\n",
    "plt.xlim([0, 10])\n",
    "plt.show()"
   ]
  },
  {
   "cell_type": "markdown",
   "metadata": {},
   "source": [
    "## Praca z prawdziwym sygnałem\n",
    "\n",
    "\n",
    "Pobierz plik *dane.csv*. Wykorzystaj poniższą funkcję.\n"
   ]
  },
  {
   "cell_type": "code",
   "execution_count": null,
   "metadata": {},
   "outputs": [],
   "source": [
    "dane = np.genfromtxt('dane.csv', delimiter='\\n')"
   ]
  },
  {
   "cell_type": "code",
   "execution_count": null,
   "metadata": {},
   "outputs": [],
   "source": [
    "dane"
   ]
  },
  {
   "cell_type": "markdown",
   "metadata": {},
   "source": [
    "Przyjrzyj się danym. Częstotliwość próbkowania wynosi 250. Ile sekund w takim razie trwa synał?"
   ]
  },
  {
   "cell_type": "code",
   "execution_count": null,
   "metadata": {},
   "outputs": [],
   "source": []
  },
  {
   "cell_type": "code",
   "execution_count": null,
   "metadata": {},
   "outputs": [],
   "source": []
  },
  {
   "cell_type": "markdown",
   "metadata": {},
   "source": [
    "## Ćwiczenie 2\n",
    "\n",
    "Zwizualizuj dane. Stwórz wykres w dziedzinie czasu."
   ]
  },
  {
   "cell_type": "code",
   "execution_count": null,
   "metadata": {},
   "outputs": [],
   "source": []
  },
  {
   "cell_type": "code",
   "execution_count": null,
   "metadata": {},
   "outputs": [],
   "source": []
  },
  {
   "cell_type": "markdown",
   "metadata": {},
   "source": [
    "## Ćwiczenie 3 \n",
    "\n",
    "Wykonaj transformację Fouriera sygnału EEG i przeanalizuj dane.  "
   ]
  },
  {
   "cell_type": "code",
   "execution_count": null,
   "metadata": {},
   "outputs": [],
   "source": []
  },
  {
   "cell_type": "code",
   "execution_count": null,
   "metadata": {},
   "outputs": [],
   "source": []
  },
  {
   "cell_type": "code",
   "execution_count": null,
   "metadata": {},
   "outputs": [],
   "source": []
  },
  {
   "cell_type": "markdown",
   "metadata": {},
   "source": [
    "Co widać na wykresie? "
   ]
  },
  {
   "cell_type": "code",
   "execution_count": null,
   "metadata": {},
   "outputs": [],
   "source": []
  },
  {
   "cell_type": "code",
   "execution_count": null,
   "metadata": {},
   "outputs": [],
   "source": []
  },
  {
   "cell_type": "markdown",
   "metadata": {},
   "source": [
    "Co widać jeśli zawęzimy wykres do następujących wartości?"
   ]
  },
  {
   "cell_type": "code",
   "execution_count": null,
   "metadata": {},
   "outputs": [],
   "source": [
    "plt.xlim([-1,60])\n",
    "plt.ylim([0,100])"
   ]
  },
  {
   "cell_type": "code",
   "execution_count": null,
   "metadata": {},
   "outputs": [],
   "source": []
  },
  {
   "cell_type": "code",
   "execution_count": null,
   "metadata": {},
   "outputs": [],
   "source": []
  },
  {
   "cell_type": "markdown",
   "metadata": {},
   "source": [
    "## Dodatkowe\n",
    "\n",
    "Filmik pomagający zbudować intuicje dotyczące transformacji Fouriera:\n",
    "https://www.youtube.com/watch?v=spUNpyF58BY"
   ]
  }
 ],
 "metadata": {
  "kernelspec": {
   "display_name": "Python 3 (ipykernel)",
   "language": "python",
   "name": "python3"
  },
  "language_info": {
   "codemirror_mode": {
    "name": "ipython",
    "version": 3
   },
   "file_extension": ".py",
   "mimetype": "text/x-python",
   "name": "python",
   "nbconvert_exporter": "python",
   "pygments_lexer": "ipython3",
   "version": "3.8.10"
  }
 },
 "nbformat": 4,
 "nbformat_minor": 2
}
