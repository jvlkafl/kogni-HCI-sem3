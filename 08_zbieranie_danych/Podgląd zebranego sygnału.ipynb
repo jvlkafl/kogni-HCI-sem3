{
 "cells": [
  {
   "cell_type": "code",
   "execution_count": null,
   "id": "93a68074",
   "metadata": {},
   "outputs": [],
   "source": [
    "import pandas as pd\n",
    "import matplotlib.pyplot as plt\n",
    "import aseegg as ag\n",
    "import numpy as np"
   ]
  },
  {
   "cell_type": "code",
   "execution_count": null,
   "id": "3c5010b8",
   "metadata": {},
   "outputs": [],
   "source": [
    "df = pd.read_csv('moje_dane.txt',names = ['signal','time'])"
   ]
  },
  {
   "cell_type": "code",
   "execution_count": null,
   "id": "38085859",
   "metadata": {},
   "outputs": [],
   "source": [
    "# wycięcie słowa \"start\" z sygnału (tylko na potrzebę wyświetlenia tutaj sygnału)\n",
    "# zamiana typu zmiennej sygnału na floaty\n",
    "\n",
    "signal = df[df.signal != 'start']['signal'].astype(float)"
   ]
  },
  {
   "cell_type": "code",
   "execution_count": null,
   "id": "2a2c767b",
   "metadata": {},
   "outputs": [],
   "source": [
    "length = len(signal)\n",
    "t = np.linspace(0, length/200, length)"
   ]
  },
  {
   "cell_type": "code",
   "execution_count": null,
   "id": "7d6d6538",
   "metadata": {},
   "outputs": [],
   "source": [
    "# Cały sygnał\n",
    "\n",
    "plt.plot(t, signal)\n",
    "plt.xlabel('Czas [s]')\n",
    "plt.ylabel('Apmlituda [uV]')"
   ]
  },
  {
   "cell_type": "code",
   "execution_count": null,
   "id": "270a9695",
   "metadata": {},
   "outputs": [],
   "source": [
    "# 10-sekundowy fragment\n",
    "t2 = np.linspace(0,10,2000)\n",
    "\n",
    "plt.plot(t2, signal[2000:4000])\n",
    "plt.xlabel('Czas [s]')\n",
    "plt.ylabel('Apmlituda [uV]')"
   ]
  },
  {
   "cell_type": "code",
   "execution_count": null,
   "id": "c907ede9",
   "metadata": {},
   "outputs": [],
   "source": []
  }
 ],
 "metadata": {
  "kernelspec": {
   "display_name": "Python 3 (ipykernel)",
   "language": "python",
   "name": "python3"
  },
  "language_info": {
   "codemirror_mode": {
    "name": "ipython",
    "version": 3
   },
   "file_extension": ".py",
   "mimetype": "text/x-python",
   "name": "python",
   "nbconvert_exporter": "python",
   "pygments_lexer": "ipython3",
   "version": "3.8.10"
  }
 },
 "nbformat": 4,
 "nbformat_minor": 5
}
